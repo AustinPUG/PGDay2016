{
 "cells": [
  {
   "cell_type": "markdown",
   "metadata": {},
   "source": [
    "# Very Brief Demo of Numba Speedup inside PostgreSQL\n",
    "\n",
    "### Background\n",
    "\n",
    "This notebook was originally presented as part of a talk at PGDay Austin 2016 by Davin Potts (davin AT discontinuity DOT net).\n",
    "\n",
    "The talk built up to this notebook by first providing stories about computer vision technologies employed by Stipple, Inc., providing pointers to how similar functionality could be implemented by others using Python+NumPy+scikit-learn, and then introducing Numba to drastically accelerate the execution of such functionality inside a postgres database (performing data-intensive computations where the data lives).\n",
    "\n",
    "Links mentioned during the talk:\n",
    "* https://techcrunch.com/2013/10/24/stipple-search-mobile/ (Overview of Stipple, Inc.)\n",
    "* http://blogs.wsj.com/venturecapital/2014/04/22/stipple-shuts-down-vc-backers-included-floodgate-kleiner-perkins/\n",
    "* https://vimeo.com/63258721 (Tutorial on Image Fingerprinting using scikit-learn from PyData Santa Clara 2013 also by Davin)\n",
    "* http://numba.pydata.org/ (Numba project home)\n",
    "\n",
    "### Purpose\n",
    "\n",
    "Let's create a compute-intensive Python function, compile it using Numba inside PL/Python, then test its relative speedup."
   ]
  },
  {
   "cell_type": "code",
   "execution_count": 1,
   "metadata": {
    "collapsed": true
   },
   "outputs": [],
   "source": [
    "import psycopg2"
   ]
  },
  {
   "cell_type": "markdown",
   "metadata": {},
   "source": [
    "### Create Compute-Intensive Python Function\n",
    "\n",
    "We'll create two functions in PL/Python.  The first does the work of defining the function and even compiling it with Numba.  The second performs a speedtest to compare the pure-Python version of the function with the Numba compiled version of it.\n",
    "\n",
    "Imagining a more real-world use case, the first might be a function we want to make fast and the second is perhaps the code that uses that function (which could have been conventional SQL, no Python needed)."
   ]
  },
  {
   "cell_type": "code",
   "execution_count": null,
   "metadata": {
    "collapsed": false
   },
   "outputs": [],
   "source": [
    "with psycopg2.connect(database='radon_fingerprints',\n",
    "                      host='localhost',\n",
    "                      port=5437) as conn:\n",
    "    with conn.cursor() as cursor:\n",
    "        cursor.execute(\"CREATE EXTENSION IF NOT EXISTS plpythonu;\")\n",
    "        cursor.execute(\"\"\"\n",
    "            CREATE OR REPLACE FUNCTION prep_sum2d ()\n",
    "                RETURNS integer\n",
    "            AS $$\n",
    "\n",
    "                # GD is a so-called \"global dictionary\" made available\n",
    "                # to us by PL/Python.  It allows us to share information\n",
    "                # across functions/code within a single session.  We\n",
    "                # will use it to \"share\" our Numba-compiled function\n",
    "                # with a different Python function defined later in\n",
    "                # this cell.\n",
    "                if 'numba' in GD and 'numpy' in GD:\n",
    "                    numpy = GD['numpy']\n",
    "                    numba = GD['numba']\n",
    "                else:\n",
    "                    import numpy\n",
    "                    import numba\n",
    "                    GD['numpy'] = numpy\n",
    "                    GD['numba'] = numba\n",
    "\n",
    "                # Define our compute-intensive function to play with.\n",
    "                # (This is the example offered on the main Numba webpage.)\n",
    "                def sum2d(arr):\n",
    "                    M, N = arr.shape\n",
    "                    result = 0.0\n",
    "                    for i in range(M):\n",
    "                        for j in range(N):\n",
    "                            result += arr[i,j]\n",
    "                    return result\n",
    "                \n",
    "                # Store it in PL/Python's special 'GD' dict for ease of later use.\n",
    "                GD['sum2d'] = sum2d\n",
    "\n",
    "                # Compile a version of sum2d using Numba, and store it for later use.\n",
    "                jitsum2d = numba.jit(sum2d, target='gpu')\n",
    "                csum2d = jitsum2d.compile(numba.double(numba.double[:,::1]))\n",
    "                GD['jitsum2d'] = jitsum2d\n",
    "                GD['csum2d'] = csum2d\n",
    "\n",
    "                return 1\n",
    "\n",
    "            $$ LANGUAGE plpythonu;\n",
    "        \"\"\")\n",
    "        #cursor.execute(\"DROP FUNCTION speedtest_sum2d();\")\n",
    "        cursor.execute(\"\"\"\n",
    "            CREATE OR REPLACE FUNCTION speedtest_sum2d ()\n",
    "                RETURNS float\n",
    "            AS $$\n",
    "\n",
    "                import time\n",
    "\n",
    "                if 'numba' in GD and 'numpy' in GD:\n",
    "                    numpy = GD['numpy']\n",
    "                    numba = GD['numba']\n",
    "                else:\n",
    "                    import numpy\n",
    "                    import numba\n",
    "                    GD['numpy'] = numpy\n",
    "                    GD['numba'] = numba\n",
    "\n",
    "                sum2d = GD['sum2d']\n",
    "                jitsum2d = GD['jitsum2d']\n",
    "                csum2d = GD['csum2d']\n",
    "\n",
    "                # Create some random input data to play with.\n",
    "                arr = numpy.random.randn(100, 100)\n",
    "\n",
    "                # Exercise the pure-Python function, sum2d.\n",
    "                start = time.time()\n",
    "                res = sum2d(arr)\n",
    "                duration = time.time() - start\n",
    "                plpy.log(\"Result from python is %s in %s (msec)\" % (res, duration*1000))\n",
    "\n",
    "                csum2d(arr)       # Warm up\n",
    "\n",
    "                # Exercise the Numba version of that same function, csum2d.\n",
    "                start = time.time()\n",
    "                res = csum2d(arr)\n",
    "                duration2 = time.time() - start\n",
    "                plpy.log(\"Result from compiled is %s in %s (msec)\" % (res, duration2*1000))\n",
    "\n",
    "                plpy.log(\"Speed up is %s\" % (duration / duration2))\n",
    "\n",
    "                return (duration / duration2)\n",
    "\n",
    "            $$ LANGUAGE plpythonu;\n",
    "        \"\"\")\n",
    "        conn.commit()"
   ]
  },
  {
   "cell_type": "markdown",
   "metadata": {},
   "source": [
    "#### Quick Test on the Setup Function"
   ]
  },
  {
   "cell_type": "code",
   "execution_count": 3,
   "metadata": {
    "collapsed": false
   },
   "outputs": [
    {
     "data": {
      "text/plain": [
       "[(1,)]"
      ]
     },
     "execution_count": 3,
     "metadata": {},
     "output_type": "execute_result"
    }
   ],
   "source": [
    "with psycopg2.connect(database='radon_fingerprints',\n",
    "                      host='localhost',\n",
    "                      port=5437) as conn:\n",
    "    with conn.cursor() as cursor:\n",
    "        \n",
    "        cursor.execute(\"SELECT prep_sum2d();\")\n",
    "        \n",
    "        rows = cursor.fetchall()\n",
    "        conn.commit()\n",
    "\n",
    "rows"
   ]
  },
  {
   "cell_type": "markdown",
   "metadata": {},
   "source": [
    "### Compare Performance of the Numba Compiled Version with the Pure-Python Function\n",
    "\n",
    "The messages from `plpy.log()` will end up in the postgres logfile.  The output from running this function will be the relative speedup of using the Numba version of the function.  Speaking more generally, the amount of speedup will, of course, vary depending upon the amount and character of data being consumed, the nature of the algorithm, how data is consumed from a table (presumably what you'd likely be doing inside postgres), et cetera, et cetera."
   ]
  },
  {
   "cell_type": "code",
   "execution_count": 4,
   "metadata": {
    "collapsed": false
   },
   "outputs": [
    {
     "data": {
      "text/plain": [
       "[(198.829787234,)]"
      ]
     },
     "execution_count": 4,
     "metadata": {},
     "output_type": "execute_result"
    }
   ],
   "source": [
    "with psycopg2.connect(database='radon_fingerprints',\n",
    "                       host='localhost',\n",
    "                       port=5437) as conn:\n",
    "    with conn.cursor() as cursor:\n",
    "        cursor.execute(\"SELECT prep_sum2d();\")\n",
    "        \n",
    "        cursor.execute(\"SELECT speedtest_sum2d();\")\n",
    "        \n",
    "        rows = cursor.fetchall()\n",
    "        conn.commit()\n",
    "\n",
    "rows"
   ]
  },
  {
   "cell_type": "code",
   "execution_count": null,
   "metadata": {
    "collapsed": true
   },
   "outputs": [],
   "source": []
  }
 ],
 "metadata": {
  "kernelspec": {
   "display_name": "Python 2",
   "language": "python",
   "name": "python2"
  },
  "language_info": {
   "codemirror_mode": {
    "name": "ipython",
    "version": 2
   },
   "file_extension": ".py",
   "mimetype": "text/x-python",
   "name": "python",
   "nbconvert_exporter": "python",
   "pygments_lexer": "ipython2",
   "version": "2.7.6"
  }
 },
 "nbformat": 4,
 "nbformat_minor": 1
}
