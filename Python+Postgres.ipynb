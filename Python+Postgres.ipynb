{
 "cells": [
  {
   "cell_type": "code",
   "execution_count": null,
   "metadata": {
    "collapsed": true
   },
   "outputs": [],
   "source": [
    "This notebook was created using https://bigsql.com/[BigSQL] and http://conda.pydata.org/miniconda.html[Miniconda]. If you want to follow those steps, install both of those packages first. After Miniconda is installed, run the following commands:\n",
    "\n",
    "````\n",
    "cd <location of miniconda install>\n",
    "cd bin\n",
    "./conda create --name PGDay\n",
    "source activate PGDay\n",
    "````\n",
    "\n",
    "You should now have an active conda environment called PGDay, and your prompt should indicate this:\n",
    "\n",
    "````\n",
    "(PGDay) decibel@decina:[17:24]~/git/PGDay2016\n",
    "````\n",
    "\n",
    "Now we can install jupyter and run it:\n",
    "\n",
    "````\n",
    "conda install jupyter\n",
    "cd <location of PGDay2016 git repository>\n",
    "jupyter notebook Python+Postgres.ipynb\n",
    "````"
   ]
  },
  {
   "cell_type": "markdown",
   "metadata": {},
   "source": [
    "One last thing to do: install pip and jupyter_sql"
   ]
  },
  {
   "cell_type": "code",
   "execution_count": 1,
   "metadata": {
    "collapsed": false
   },
   "outputs": [
    {
     "name": "stdout",
     "output_type": "stream",
     "text": [
      "Fetching package metadata .......\n",
      "Solving package specifications: ..........\n",
      "\n",
      "Package plan for installation in environment /Users/decibel/miniconda3/envs/PGDay:\n",
      "\n",
      "The following packages will be downloaded:\n",
      "\n",
      "    package                    |            build\n",
      "    ---------------------------|-----------------\n",
      "    sqlalchemy-1.1.3           |           py35_0         1.5 MB\n",
      "\n",
      "The following NEW packages will be INSTALLED:\n",
      "\n",
      "    sqlalchemy: 1.1.3-py35_0\n",
      "\n",
      "Fetching packages ...\n",
      "sqlalchemy-1.1 100% |################################| Time: 0:00:01   1.56 MB/s\n",
      "Extracting packages ...\n",
      "[      COMPLETE      ]|###################################################| 100%\n",
      "Linking packages ...\n",
      "[      COMPLETE      ]|###################################################| 100%\n"
     ]
    }
   ],
   "source": [
    "!conda install -y sqlalchemy pip"
   ]
  },
  {
   "cell_type": "code",
   "execution_count": 12,
   "metadata": {
    "collapsed": false
   },
   "outputs": [
    {
     "name": "stdout",
     "output_type": "stream",
     "text": [
      "Requirement already satisfied: jupyter-sql in /Users/decibel/miniconda3/envs/PGDay/lib/python3.5/site-packages\r\n",
      "Requirement already satisfied: ipython in /Users/decibel/miniconda3/envs/PGDay/lib/python3.5/site-packages (from jupyter-sql)\r\n",
      "Requirement already satisfied: jupyter-client in /Users/decibel/miniconda3/envs/PGDay/lib/python3.5/site-packages (from jupyter-sql)\r\n",
      "Requirement already satisfied: sqlalchemy in /Users/decibel/miniconda3/envs/PGDay/lib/python3.5/site-packages (from jupyter-sql)\r\n",
      "Requirement already satisfied: sqlparse in /Users/decibel/miniconda3/envs/PGDay/lib/python3.5/site-packages (from jupyter-sql)\r\n",
      "Requirement already satisfied: jupyter in /Users/decibel/miniconda3/envs/PGDay/lib/python3.5/site-packages (from jupyter-sql)\r\n"
     ]
    }
   ],
   "source": [
    "!pip install jupyter-sql"
   ]
  },
  {
   "cell_type": "code",
   "execution_count": 1,
   "metadata": {
    "collapsed": false
   },
   "outputs": [
    {
     "name": "stderr",
     "output_type": "stream",
     "text": [
      "/opt/local/Library/Frameworks/Python.framework/Versions/2.7/lib/python2.7/site-packages/IPython/utils/traitlets.py:5: UserWarning: IPython.utils.traitlets has moved to a top-level traitlets package.\n",
      "  warn(\"IPython.utils.traitlets has moved to a top-level traitlets package.\")\n"
     ]
    }
   ],
   "source": [
    "%load_ext sql"
   ]
  },
  {
   "cell_type": "code",
   "execution_count": 10,
   "metadata": {
    "collapsed": false
   },
   "outputs": [
    {
     "name": "stdout",
     "output_type": "stream",
     "text": [
      "> \u001b[0;32m/Users/decibel/miniconda3/envs/PGDay/lib/python3.5/site-packages/IPython/core/extensions.py\u001b[0m(88)\u001b[0;36mload_extension\u001b[0;34m()\u001b[0m\n",
      "\u001b[0;32m     86 \u001b[0;31m                \u001b[0mself\u001b[0m\u001b[0;34m.\u001b[0m\u001b[0mloaded\u001b[0m\u001b[0;34m.\u001b[0m\u001b[0madd\u001b[0m\u001b[0;34m(\u001b[0m\u001b[0mmodule_str\u001b[0m\u001b[0;34m)\u001b[0m\u001b[0;34m\u001b[0m\u001b[0m\n",
      "\u001b[0m\u001b[0;32m     87 \u001b[0;31m            \u001b[0;32melse\u001b[0m\u001b[0;34m:\u001b[0m\u001b[0;34m\u001b[0m\u001b[0m\n",
      "\u001b[0m\u001b[0;32m---> 88 \u001b[0;31m                \u001b[0;32mreturn\u001b[0m \u001b[0;34m\"no load function\"\u001b[0m\u001b[0;34m\u001b[0m\u001b[0m\n",
      "\u001b[0m\u001b[0;32m     89 \u001b[0;31m\u001b[0;34m\u001b[0m\u001b[0m\n",
      "\u001b[0m\u001b[0;32m     90 \u001b[0;31m    \u001b[0;32mdef\u001b[0m \u001b[0munload_extension\u001b[0m\u001b[0;34m(\u001b[0m\u001b[0mself\u001b[0m\u001b[0;34m,\u001b[0m \u001b[0mmodule_str\u001b[0m\u001b[0;34m)\u001b[0m\u001b[0;34m:\u001b[0m\u001b[0;34m\u001b[0m\u001b[0m\n",
      "\u001b[0m\n",
      "ipdb> p self.ipython_extension_dir\n",
      "'/Users/decibel/.ipython/extensions'\n",
      "ipdb> h\n",
      "\n",
      "Documented commands (type help <topic>):\n",
      "========================================\n",
      "EOF    c          d        h         next    pp       retval  u          whatis\n",
      "a      cl         debug    help      p       psource  run     unalias    where \n",
      "alias  clear      disable  ignore    pdef    q        rv      undisplay\n",
      "args   commands   display  interact  pdoc    quit     s       unt      \n",
      "b      condition  down     j         pfile   r        source  until    \n",
      "break  cont       enable   jump      pinfo   restart  step    up       \n",
      "bt     continue   exit     n         pinfo2  return   tbreak  w        \n",
      "\n",
      "Miscellaneous help topics:\n",
      "==========================\n",
      "exec  pdb\n",
      "\n",
      "Undocumented commands:\n",
      "======================\n",
      "l  list  ll  longlist\n",
      "\n",
      "ipdb> h exit\n",
      "q(uit)\n",
      "exit\n",
      "        Quit from the debugger. The program being executed is aborted.\n",
      "ipdb> continue\n"
     ]
    }
   ],
   "source": [
    "%debug"
   ]
  },
  {
   "cell_type": "code",
   "execution_count": 8,
   "metadata": {
    "collapsed": false
   },
   "outputs": [],
   "source": [
    "%magic"
   ]
  },
  {
   "cell_type": "code",
   "execution_count": null,
   "metadata": {
    "collapsed": true
   },
   "outputs": [],
   "source": []
  }
 ],
 "metadata": {
  "anaconda-cloud": {},
  "kernelspec": {
   "display_name": "Python 2",
   "language": "python",
   "name": "python2"
  },
  "language_info": {
   "codemirror_mode": {
    "name": "ipython",
    "version": 2
   },
   "file_extension": ".py",
   "mimetype": "text/x-python",
   "name": "python",
   "nbconvert_exporter": "python",
   "pygments_lexer": "ipython2",
   "version": "2.7.12"
  }
 },
 "nbformat": 4,
 "nbformat_minor": 1
}
